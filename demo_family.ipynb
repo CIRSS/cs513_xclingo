{
 "cells": [
  {
   "cell_type": "markdown",
   "id": "cc116288-412c-4ebd-8bea-1ecf031d4a3a",
   "metadata": {},
   "source": [
    "# Family Example"
   ]
  },
  {
   "cell_type": "markdown",
   "id": "dbc7f7f1-e0f2-4a02-a688-52295154c1f5",
   "metadata": {},
   "source": [
    "Consider the family relation which is shown as a graph below (edges point from a parent to a child)! We will work with Datalog rules and xclingo to illustrate the meaning of several relationships."
   ]
  },
  {
   "cell_type": "markdown",
   "id": "92b723fb-56bd-4da9-b680-3c46ac3ad2cd",
   "metadata": {},
   "source": [
    "![Family](img/family.png \"Family\")"
   ]
  },
  {
   "cell_type": "markdown",
   "id": "7b68cf0b-6b86-40bd-b851-d4bcf873596a",
   "metadata": {},
   "source": [
    "## Relationship1: Grandparent"
   ]
  },
  {
   "cell_type": "code",
   "execution_count": 7,
   "id": "194a5f79-e694-4983-ada8-47681ae6443b",
   "metadata": {},
   "outputs": [
    {
     "name": "stdout",
     "output_type": "stream",
     "text": [
      "Overwriting clingo/grandparent.lp\n"
     ]
    }
   ],
   "source": [
    "%%file clingo/grandparent.lp\n",
    "\n",
    "%!trace {\"% is the parent of %\",X,Y} parent(X,Y).\n",
    "parent(william, john).\n",
    "parent(john, james).\n",
    "parent(james, bill).\n",
    "parent(sue, bill).\n",
    "parent(james, carol).\n",
    "parent(sue, carol).\n",
    "\n",
    "\n",
    "male(john).\n",
    "male(james).\n",
    "male(bill).\n",
    "\n",
    "female(sue).\n",
    "female(carol).\n",
    "\n",
    "\n",
    "%!trace {\"% is the grandparent of % (via %)\",X,Y,Z} grandparent(X,Y,Z).\n",
    "grandparent(X,Y,Z) :- parent(X, Z), parent(Z, Y).\n",
    "mother(X,Y)  :-       parent(X, Y), female(X).\n",
    "brother(X,Y) :-       parent(P, X), parent(P, Y), male(X), X != Y.\n",
    "sister(X,Y)  :-       parent(P, X), parent(P, Y), female(X), X != Y.\n",
    "\n",
    "%!show_trace grandparent(X,Y,Z)."
   ]
  },
  {
   "cell_type": "code",
   "execution_count": 8,
   "id": "b8a8871e-acc9-4d25-bf82-5b39fb94f72d",
   "metadata": {},
   "outputs": [
    {
     "name": "stdout",
     "output_type": "stream",
     "text": [
      "Answer 1\n",
      "  *\n",
      "  |__william is the grandparent of james (via john)\n",
      "  |  |__william is the parent of john\n",
      "  |  |__john is the parent of james\n",
      "\n",
      "  *\n",
      "  |__john is the grandparent of carol (via james)\n",
      "  |  |__john is the parent of james\n",
      "  |  |__james is the parent of carol\n",
      "\n",
      "  *\n",
      "  |__john is the grandparent of bill (via james)\n",
      "  |  |__john is the parent of james\n",
      "  |  |__james is the parent of bill\n",
      "\n"
     ]
    }
   ],
   "source": [
    "!xclingo -n 0 0 clingo/grandparent.lp"
   ]
  },
  {
   "cell_type": "markdown",
   "id": "75c12dc9-ebd1-446b-b95c-a00e06ccae3f",
   "metadata": {},
   "source": [
    "## Relationship2: Father"
   ]
  },
  {
   "cell_type": "code",
   "execution_count": 15,
   "id": "e52d3c81-6b6f-4023-9fd1-2f084896b7f1",
   "metadata": {},
   "outputs": [
    {
     "name": "stdout",
     "output_type": "stream",
     "text": [
      "Overwriting clingo/father.lp\n"
     ]
    }
   ],
   "source": [
    "%%file clingo/father.lp\n",
    "\n",
    "%!trace {\"% is the parent of %\",X,Y} parent(X,Y).\n",
    "parent(william, john).\n",
    "parent(john, james).\n",
    "parent(james, bill).\n",
    "parent(sue, bill).\n",
    "parent(james, carol).\n",
    "parent(sue, carol).\n",
    "\n",
    "\n",
    "%!trace {\"% is male\",X} male(X).\n",
    "male(john).\n",
    "male(james).\n",
    "male(bill).\n",
    "\n",
    "female(sue).\n",
    "female(carol).\n",
    "\n",
    "grandparent(X,Y,Z) :- parent(X, Z), parent(Z, Y).\n",
    "\n",
    "%!trace {\"% is the father of %\",X,Y} father(X,Y).\n",
    "father(X,Y)  :-     parent(X, Y), male(X).\n",
    "mother(X,Y)  :-     parent(X, Y), female(X).\n",
    "brother(X,Y) :-     parent(P, X), parent(P, Y), male(X), X != Y.\n",
    "sister(X,Y)  :-     parent(P, X), parent(P, Y), female(X), X != Y.\n",
    "\n",
    "%!show_trace father(X,Y)."
   ]
  },
  {
   "cell_type": "code",
   "execution_count": 16,
   "id": "51c75e89-a910-4eb4-b6e4-67902bf816a1",
   "metadata": {},
   "outputs": [
    {
     "name": "stdout",
     "output_type": "stream",
     "text": [
      "Answer 1\n",
      "  *\n",
      "  |__james is the father of bill\n",
      "  |  |__james is the parent of bill\n",
      "  |  |__james is male\n",
      "\n",
      "  *\n",
      "  |__james is the father of carol\n",
      "  |  |__james is the parent of carol\n",
      "  |  |__james is male\n",
      "\n",
      "  *\n",
      "  |__john is the father of james\n",
      "  |  |__john is the parent of james\n",
      "  |  |__john is male\n",
      "\n"
     ]
    }
   ],
   "source": [
    "!xclingo -n 0 0 clingo/father.lp"
   ]
  },
  {
   "cell_type": "markdown",
   "id": "8f47a440-f881-42d3-8203-d4015071eb58",
   "metadata": {},
   "source": [
    "## Relationship3: Sister"
   ]
  },
  {
   "cell_type": "code",
   "execution_count": 27,
   "id": "e97f9807-4560-46a3-9e55-649d26ecc645",
   "metadata": {},
   "outputs": [
    {
     "name": "stdout",
     "output_type": "stream",
     "text": [
      "Overwriting clingo/sister.lp\n"
     ]
    }
   ],
   "source": [
    "%%file clingo/sister.lp\n",
    "\n",
    "%!trace {\"% is the parent of %\",X,Y} parent(X,Y).\n",
    "parent(william, john).\n",
    "parent(john, james).\n",
    "parent(james, bill).\n",
    "parent(sue, bill).\n",
    "parent(james, carol).\n",
    "parent(sue, carol).\n",
    "\n",
    "\n",
    "male(john).\n",
    "male(james).\n",
    "male(bill).\n",
    "\n",
    "%!trace {\"% is female\",X} female(X).\n",
    "female(sue).\n",
    "female(carol).\n",
    "\n",
    "grandparent(X,Y,Z) :- parent(X, Z), parent(Z, Y).\n",
    "father(X,Y)  :-     parent(X, Y), male(X).\n",
    "mother(X,Y)  :-     parent(X, Y), female(X).\n",
    "brother(X,Y) :-     parent(P, X), parent(P, Y), male(X), X != Y.\n",
    "%!trace {\"% is the sister of %\",X,Y} sister(X,Y).\n",
    "sister(X,Y)  :-     parent(P, X), parent(P, Y), female(X), X != Y.\n",
    "\n",
    "%!show_trace sister(X,Y)."
   ]
  },
  {
   "cell_type": "code",
   "execution_count": 28,
   "id": "9f199e73-24bc-4c95-bbda-9592b8a72474",
   "metadata": {},
   "outputs": [
    {
     "name": "stdout",
     "output_type": "stream",
     "text": [
      "Answer 1\n",
      "  *\n",
      "  |__carol is the sister of bill\n",
      "  |  |__james is the parent of carol\n",
      "  |  |__james is the parent of bill\n",
      "  |  |__carol is female\n",
      "\n",
      "  *\n",
      "  |__carol is the sister of bill\n",
      "  |  |__sue is the parent of carol\n",
      "  |  |__sue is the parent of bill\n",
      "  |  |__carol is female\n",
      "\n"
     ]
    }
   ],
   "source": [
    "!xclingo -n 0 0 clingo/sister.lp"
   ]
  },
  {
   "cell_type": "markdown",
   "id": "4fac59ca-0511-48db-882e-20d04333c65c",
   "metadata": {},
   "source": [
    "## Relationship4: Descendant"
   ]
  },
  {
   "cell_type": "code",
   "execution_count": 37,
   "id": "8d456009-5b15-4a05-9971-8b5dec2758ae",
   "metadata": {},
   "outputs": [
    {
     "name": "stdout",
     "output_type": "stream",
     "text": [
      "Overwriting clingo/descendant.lp\n"
     ]
    }
   ],
   "source": [
    "%%file clingo/descendant.lp\n",
    "\n",
    "%!trace {\"% is the child of %\",Y,X} parent(X,Y).\n",
    "parent(william, john).\n",
    "parent(john, james).\n",
    "parent(james, bill).\n",
    "parent(sue, bill).\n",
    "parent(james, carol).\n",
    "parent(sue, carol).\n",
    "\n",
    "\n",
    "%!trace {\"% is the descendant of %\",Y,X} descendant(Y,X).\n",
    "descendant(Y,X):-parent(X,Y).\n",
    "descendant(Y,Z):-descendant(Y,X), parent(Z,X).\n",
    "\n",
    "%!show_trace descendant(X,Y)."
   ]
  },
  {
   "cell_type": "code",
   "execution_count": 38,
   "id": "803851cb-3c09-4bc1-8f1c-a73367efed32",
   "metadata": {},
   "outputs": [
    {
     "name": "stdout",
     "output_type": "stream",
     "text": [
      "Answer 1\n",
      "  *\n",
      "  |__bill is the descendant of sue\n",
      "  |  |__bill is the child of sue\n",
      "\n",
      "  *\n",
      "  |__carol is the descendant of sue\n",
      "  |  |__carol is the child of sue\n",
      "\n",
      "  *\n",
      "  |__john is the descendant of william\n",
      "  |  |__john is the child of william\n",
      "\n",
      "  *\n",
      "  |__bill is the descendant of william\n",
      "  |  |__john is the child of william\n",
      "  |  |__bill is the descendant of john\n",
      "  |  |  |__james is the child of john\n",
      "  |  |  |__bill is the descendant of james\n",
      "  |  |  |  |__bill is the child of james\n",
      "\n",
      "  *\n",
      "  |__carol is the descendant of john\n",
      "  |  |__james is the child of john\n",
      "  |  |__carol is the descendant of james\n",
      "  |  |  |__carol is the child of james\n",
      "\n",
      "  *\n",
      "  |__carol is the descendant of william\n",
      "  |  |__john is the child of william\n",
      "  |  |__carol is the descendant of john\n",
      "  |  |  |__james is the child of john\n",
      "  |  |  |__carol is the descendant of james\n",
      "  |  |  |  |__carol is the child of james\n",
      "\n",
      "  *\n",
      "  |__james is the descendant of john\n",
      "  |  |__james is the child of john\n",
      "\n",
      "  *\n",
      "  |__james is the descendant of william\n",
      "  |  |__john is the child of william\n",
      "  |  |__james is the descendant of john\n",
      "  |  |  |__james is the child of john\n",
      "\n",
      "  *\n",
      "  |__bill is the descendant of john\n",
      "  |  |__james is the child of john\n",
      "  |  |__bill is the descendant of james\n",
      "  |  |  |__bill is the child of james\n",
      "\n",
      "  *\n",
      "  |__carol is the descendant of james\n",
      "  |  |__carol is the child of james\n",
      "\n",
      "  *\n",
      "  |__bill is the descendant of james\n",
      "  |  |__bill is the child of james\n",
      "\n"
     ]
    }
   ],
   "source": [
    "!xclingo -n 0 0 clingo/descendant.lp"
   ]
  }
 ],
 "metadata": {
  "kernelspec": {
   "display_name": "Python 3 (ipykernel)",
   "language": "python",
   "name": "python3"
  },
  "language_info": {
   "codemirror_mode": {
    "name": "ipython",
    "version": 3
   },
   "file_extension": ".py",
   "mimetype": "text/x-python",
   "name": "python",
   "nbconvert_exporter": "python",
   "pygments_lexer": "ipython3",
   "version": "3.8.13"
  }
 },
 "nbformat": 4,
 "nbformat_minor": 5
}
